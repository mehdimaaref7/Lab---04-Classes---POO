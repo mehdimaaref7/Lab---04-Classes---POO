{
 "cells": [
  {
   "cell_type": "markdown",
   "metadata": {},
   "source": [
    "# Classes - Application Python \n"
   ]
  },
  {
   "cell_type": "markdown",
   "metadata": {},
   "source": [
    "* Dans ce Lab n°4, nous allons étudier et maître en pratique des notions vues dans les précédents Labs, à savoir, la définiton de variable (int, float, str, loops, function...) \n",
    "* Une classe est un fondement de la programmation orientée objet (POO).\n",
    "* On retrouve ce concept dans d'autres langages POO (java, c++, c, ...) \n",
    "* Il est primordial de maîtriser ce concept car dans le cas de création de librairie on peut être amené à appeller nos classes, en important le fichier .py contenant la classe \n",
    "* Nous allons voir comment définir des classes public ou private et changer les restrictions sur ces classes "
   ]
  },
  {
   "cell_type": "code",
   "execution_count": 23,
   "metadata": {},
   "outputs": [
    {
     "name": "stdout",
     "output_type": "stream",
     "text": [
      "je suis Mehdi une jeune développeur Python :)\n",
      "<class '__main__.Mehdi'>\n",
      "5\n"
     ]
    }
   ],
   "source": [
    "#définition simple de la classe public Mehdi\n",
    "class Mehdi:\n",
    " \n",
    "    # default constructor\n",
    "    def __init__(self): #constructor implementation with self\n",
    "        self.developpeur = \"je suis Mehdi une jeune développeur Python :)\" #define a string developpeur to the constuctor Mehdi\n",
    "        self.a = 2 #define int a \n",
    "        self.b = 3 #define int b \n",
    " \n",
    "    # a method for printing data members\n",
    "    def print_Mehdi_job(self):\n",
    "        print(self.developpeur)\n",
    "    \n",
    "    # a method to calculate a + b\n",
    "    def addition(self):\n",
    "        print(self.a + self.b) #result of a+b\n",
    "        \n",
    "    #a method to calculate a - b\n",
    "    def substracttion(self):\n",
    "        print(self.a - self.b)\n",
    "        \n",
    " \n",
    " \n",
    "# creating object of the class\n",
    "obj = Mehdi()\n",
    " \n",
    "# calling the instance method using the object obj\n",
    "obj.print_Mehdi_job()\n",
    "\n",
    "#display  type of obj\n",
    "type_of_mehdi = type(obj) #define variable type() for type_of_mehdi class\n",
    "print(type_of_mehdi)\n",
    "\n",
    "\n",
    "#calling the addition method using the object obj \n",
    "obj.addition()\n",
    "\n",
    "\n",
    "\n"
   ]
  },
  {
   "cell_type": "markdown",
   "metadata": {},
   "source": [
    "* Ainsi une classe contient un objet, et grâce au constructeur on peut attribuer à cet objet un comportement ou behavior \n"
   ]
  },
  {
   "cell_type": "markdown",
   "metadata": {},
   "source": [
    "* On observe bien que la fonction type() qui est indique le type de notre objet indique bien qu'il s'agit d'une classe"
   ]
  },
  {
   "cell_type": "markdown",
   "metadata": {},
   "source": [
    "## Private - Public Classes"
   ]
  },
  {
   "cell_type": "markdown",
   "metadata": {},
   "source": [
    "* Ici nous initialisons une classe Base, et une classe dérivée de la classe Base \"Derived\" afin de comprendre les utilisations des classes privées et publiques "
   ]
  },
  {
   "cell_type": "code",
   "execution_count": 16,
   "metadata": {},
   "outputs": [
    {
     "name": "stdout",
     "output_type": "stream",
     "text": [
      "Public method\n",
      "\n",
      "Inside derived class\n",
      "Public method\n"
     ]
    }
   ],
   "source": [
    "# Python program to \n",
    "# demonstrate private methods\n",
    "  \n",
    "# Creating a Base class \n",
    "class Base: \n",
    "  \n",
    "    # Declaring public method\n",
    "    def fun(self):\n",
    "        print(\"Public method\")\n",
    "  \n",
    "    # Declaring private method\n",
    "    def __fun(self):\n",
    "        print(\"Private method\")\n",
    "  \n",
    "# Creating a derived class \n",
    "class Derived(Base): \n",
    "    def __init__(self): \n",
    "          \n",
    "        # Calling constructor of \n",
    "        # Base class \n",
    "        Base.__init__(self) \n",
    "          \n",
    "    def call_public(self):\n",
    "          \n",
    "        # Calling public method of base class\n",
    "        print(\"\\nInside derived class\")\n",
    "        self.fun()\n",
    "          \n",
    "    def call_private(self):\n",
    "          \n",
    "        # Calling private method of base class\n",
    "        self.__fun()\n",
    "  \n",
    "# Driver code \n",
    "obj1 = Base()\n",
    "  \n",
    "# Calling public method\n",
    "obj1.fun()\n",
    "  \n",
    "obj2 = Derived()\n",
    "obj2.call_public()\n",
    "\n",
    "  \n",
    "# Uncommenting obj1.__fun() will \n",
    "# raise an AttributeError \n",
    "  \n",
    "# Uncommenting obj2.call_private() \n",
    "# will also raise an AttributeError"
   ]
  },
  {
   "cell_type": "code",
   "execution_count": 20,
   "metadata": {},
   "outputs": [
    {
     "ename": "AttributeError",
     "evalue": "'Base' object has no attribute '__fun'",
     "output_type": "error",
     "traceback": [
      "\u001b[1;31m---------------------------------------------------------------------------\u001b[0m",
      "\u001b[1;31mAttributeError\u001b[0m                            Traceback (most recent call last)",
      "\u001b[1;32m<ipython-input-20-8a0d16ab98a3>\u001b[0m in \u001b[0;36m<module>\u001b[1;34m\u001b[0m\n\u001b[0;32m      1\u001b[0m \u001b[1;31m#Manipulation des classes privées et publiques\u001b[0m\u001b[1;33m\u001b[0m\u001b[1;33m\u001b[0m\u001b[1;33m\u001b[0m\u001b[0m\n\u001b[0;32m      2\u001b[0m \u001b[1;31m#appel d'une méthode privée\u001b[0m\u001b[1;33m\u001b[0m\u001b[1;33m\u001b[0m\u001b[1;33m\u001b[0m\u001b[0m\n\u001b[1;32m----> 3\u001b[1;33m \u001b[0mobj1\u001b[0m\u001b[1;33m.\u001b[0m\u001b[0m__fun\u001b[0m\u001b[1;33m(\u001b[0m\u001b[1;33m)\u001b[0m\u001b[1;33m\u001b[0m\u001b[1;33m\u001b[0m\u001b[0m\n\u001b[0m\u001b[0;32m      4\u001b[0m \u001b[1;33m\u001b[0m\u001b[0m\n\u001b[0;32m      5\u001b[0m \u001b[1;31m#--> renvoie une erreur logiquement\u001b[0m\u001b[1;33m\u001b[0m\u001b[1;33m\u001b[0m\u001b[1;33m\u001b[0m\u001b[0m\n",
      "\u001b[1;31mAttributeError\u001b[0m: 'Base' object has no attribute '__fun'"
     ]
    }
   ],
   "source": [
    "#Manipulation des classes privées et publiques \n",
    "#appel d'une méthode privée \n",
    "obj1.__fun()\n",
    "\n",
    "#--> renvoie une erreur logiquement "
   ]
  },
  {
   "cell_type": "markdown",
   "metadata": {},
   "source": [
    "La console python renvoie une erreur car elle ne trouve pas la méthode qui est privée, donc introuvable pour la console "
   ]
  },
  {
   "cell_type": "code",
   "execution_count": 12,
   "metadata": {},
   "outputs": [
    {
     "name": "stdout",
     "output_type": "stream",
     "text": [
      "Public method\n"
     ]
    }
   ],
   "source": []
  },
  {
   "cell_type": "code",
   "execution_count": null,
   "metadata": {},
   "outputs": [],
   "source": []
  }
 ],
 "metadata": {
  "kernelspec": {
   "display_name": "Python 3",
   "language": "python",
   "name": "python3"
  },
  "language_info": {
   "codemirror_mode": {
    "name": "ipython",
    "version": 3
   },
   "file_extension": ".py",
   "mimetype": "text/x-python",
   "name": "python",
   "nbconvert_exporter": "python",
   "pygments_lexer": "ipython3",
   "version": "3.8.5"
  }
 },
 "nbformat": 4,
 "nbformat_minor": 4
}
